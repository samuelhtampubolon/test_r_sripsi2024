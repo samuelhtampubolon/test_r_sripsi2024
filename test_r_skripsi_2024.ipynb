{
  "nbformat": 4,
  "nbformat_minor": 0,
  "metadata": {
    "colab": {
      "provenance": []
    },
    "kernelspec": {
      "name": "ir",
      "display_name": "R"
    },
    "language_info": {
      "name": "R"
    }
  },
  "cells": [
    {
      "cell_type": "code",
      "execution_count": null,
      "metadata": {
        "colab": {
          "base_uri": "https://localhost:8080/",
          "height": 71
        },
        "id": "JTYa5vd2-o3v",
        "outputId": "c139f4e2-cb5d-4d4e-ae66-cf95c88bec5a"
      },
      "outputs": [
        {
          "output_type": "display_data",
          "data": {
            "text/plain": [
              "            Df Sum Sq Mean Sq F value Pr(>F)\n",
              "group        2    293   146.3   0.223  0.802\n",
              "Residuals   18  11811   656.2               "
            ]
          },
          "metadata": {}
        }
      ],
      "source": [
        "# Example data: three groups with different observations\n",
        "group1 <- c(23, 45, 67, 89, 43, 23, 56)\n",
        "group2 <- c(34, 56, 78, 12, 45, 34, 23)\n",
        "group3 <- c(12, 34, 56, 78, 89, 12, 34)\n",
        "\n",
        "# Combine the data into a single data frame\n",
        "data <- data.frame(\n",
        "  values = c(group1, group2, group3),\n",
        "  group = factor(rep(c(\"group1\", \"group2\", \"group3\"), each = 7))\n",
        ")\n",
        "\n",
        "# Perform one-way ANOVA\n",
        "anova_result <- aov(values ~ group, data = data)\n",
        "\n",
        "# Display the summary of the ANOVA\n",
        "summary(anova_result)\n",
        "\n",
        "# Interpretation\n",
        "# If the p-value in the summary is less than 0.05, reject the null hypothesis:\n",
        "# There is a significant difference between the group means.\n"
      ]
    },
    {
      "cell_type": "code",
      "source": [
        "# Example data: two variables\n",
        "x <- c(10, 20, 30, 40, 50, 60, 70, 80, 90, 100)\n",
        "y <- c(12, 24, 36, 48, 60, 72, 84, 96, 108, 120)\n",
        "\n",
        "# Calculate Pearson correlation coefficient\n",
        "correlation_result <- cor.test(x, y, method = \"pearson\")\n",
        "\n",
        "# Display the correlation coefficient and p-value\n",
        "cat(\"Pearson correlation coefficient:\", correlation_result$estimate, \"\\n\")\n",
        "cat(\"P-value:\", correlation_result$p.value, \"\\n\")\n",
        "\n",
        "# Interpretation\n",
        "alpha <- 0.05\n",
        "if (correlation_result$p.value < alpha) {\n",
        "  cat(\"Reject the null hypothesis: There is a significant correlation between the two variables.\\n\")\n",
        "} else {\n",
        "  cat(\"Fail to reject the null hypothesis: There is no significant correlation between the two variables.\\n\")\n",
        "}\n"
      ],
      "metadata": {
        "colab": {
          "base_uri": "https://localhost:8080/"
        },
        "id": "PYVV2_a2-0TQ",
        "outputId": "2c4c3714-355c-44bd-9cd6-be9bdf808e9b"
      },
      "execution_count": null,
      "outputs": [
        {
          "output_type": "stream",
          "name": "stdout",
          "text": [
            "Pearson correlation coefficient: 1 \n",
            "P-value: 0 \n",
            "Reject the null hypothesis: There is a significant correlation between the two variables.\n"
          ]
        }
      ]
    },
    {
      "cell_type": "code",
      "source": [
        "# Contoh data: tiga grup dengan pengamatan yang berbeda\n",
        "group1 <- c(23, 45, 67, 89, 43, 23, 56)\n",
        "group2 <- c(34, 56, 78, 12, 45, 34, 23)\n",
        "group3 <- c(12, 34, 56, 78, 89, 12, 34)\n",
        "\n",
        "# Gabungkan data menjadi satu data frame\n",
        "data <- data.frame(\n",
        "  values = c(group1, group2, group3),\n",
        "  group = factor(rep(c(\"group1\", \"group2\", \"group3\"), each = 7))\n",
        ")\n",
        "\n",
        "# Melakukan ANOVA satu arah\n",
        "anova_result <- aov(values ~ group, data = data)\n",
        "\n",
        "# Menampilkan ringkasan hasil ANOVA\n",
        "summary(anova_result)\n",
        "\n",
        "# Interpretasi\n",
        "# Jika p-value dalam ringkasan kurang dari 0.05, tolak hipotesis nol:\n",
        "# Ada perbedaan yang signifikan antara rata-rata grup.\n"
      ],
      "metadata": {
        "colab": {
          "base_uri": "https://localhost:8080/",
          "height": 71
        },
        "id": "IBESkNAA__Uw",
        "outputId": "485d75bc-2a62-4487-d6b5-a80daf4abc11"
      },
      "execution_count": null,
      "outputs": [
        {
          "output_type": "display_data",
          "data": {
            "text/plain": [
              "            Df Sum Sq Mean Sq F value Pr(>F)\n",
              "group        2    293   146.3   0.223  0.802\n",
              "Residuals   18  11811   656.2               "
            ]
          },
          "metadata": {}
        }
      ]
    },
    {
      "cell_type": "code",
      "source": [
        "# Contoh data: dua variabel\n",
        "x <- c(10, 20, 30, 40, 50, 60, 70, 80, 90, 100)\n",
        "y <- c(12, 24, 36, 48, 60, 72, 84, 96, 108, 120)\n",
        "\n",
        "# Menghitung koefisien korelasi Pearson\n",
        "correlation_result <- cor.test(x, y, method = \"pearson\")\n",
        "\n",
        "# Menampilkan koefisien korelasi dan p-value\n",
        "cat(\"Koefisien Korelasi Pearson:\", correlation_result$estimate, \"\\n\")\n",
        "cat(\"P-value:\", correlation_result$p.value, \"\\n\")\n",
        "\n",
        "# Interpretasi\n",
        "alpha <- 0.05\n",
        "if (correlation_result$p.value < alpha) {\n",
        "  cat(\"Tolak hipotesis nol: Ada korelasi yang signifikan antara kedua variabel.\\n\")\n",
        "} else {\n",
        "  cat(\"Gagal menolak hipotesis nol: Tidak ada korelasi yang signifikan antara kedua variabel.\\n\")\n",
        "}\n"
      ],
      "metadata": {
        "id": "2KGJG05xAbHl",
        "outputId": "b1dba205-3fae-4f16-b846-7042221ddea8",
        "colab": {
          "base_uri": "https://localhost:8080/"
        }
      },
      "execution_count": null,
      "outputs": [
        {
          "output_type": "stream",
          "name": "stdout",
          "text": [
            "Koefisien Korelasi Pearson: 1 \n",
            "P-value: 0 \n",
            "Tolak hipotesis nol: Ada korelasi yang signifikan antara kedua variabel.\n"
          ]
        }
      ]
    },
    {
      "cell_type": "code",
      "source": [
        "# Contoh data: tiga kolom dengan beberapa pengamatan\n",
        "data <- data.frame(\n",
        "  value1 = c(10, 20, 30, 40, 50, 60, 70, 80, 90, 100),\n",
        "  value2 = c(15, 25, 35, 45, 55, 65, 75, 85, 95, 105),\n",
        "  value3 = c(20, 30, 40, 50, 60, 70, 80, 90, 100, 110)\n",
        ")\n",
        "\n",
        "# Menampilkan ringkasan statistik deskriptif\n",
        "summary(data)\n",
        "\n",
        "# Menampilkan ringkasan statistik deskriptif untuk setiap kolom secara manual\n",
        "cat(\"Rata-rata:\\n\")\n",
        "print(sapply(data, mean, na.rm = TRUE))\n",
        "\n",
        "cat(\"\\nMedian:\\n\")\n",
        "print(sapply(data, median, na.rm = TRUE))\n",
        "\n",
        "cat(\"\\nStandar Deviasi:\\n\")\n",
        "print(sapply(data, sd, na.rm = TRUE))\n",
        "\n",
        "cat(\"\\nMinimum:\\n\")\n",
        "print(sapply(data, min, na.rm = TRUE))\n",
        "\n",
        "cat(\"\\nMaximum:\\n\")\n",
        "print(sapply(data, max, na.rm = TRUE))\n",
        "\n",
        "cat(\"\\nKuartil:\\n\")\n",
        "print(sapply(data, quantile, na.rm = TRUE))\n"
      ],
      "metadata": {
        "colab": {
          "base_uri": "https://localhost:8080/",
          "height": 632
        },
        "id": "DzsyqnEdL7r5",
        "outputId": "218a6381-3050-4529-9139-6c8b4e64ec04"
      },
      "execution_count": null,
      "outputs": [
        {
          "output_type": "display_data",
          "data": {
            "text/plain": [
              "     value1          value2          value3     \n",
              " Min.   : 10.0   Min.   : 15.0   Min.   : 20.0  \n",
              " 1st Qu.: 32.5   1st Qu.: 37.5   1st Qu.: 42.5  \n",
              " Median : 55.0   Median : 60.0   Median : 65.0  \n",
              " Mean   : 55.0   Mean   : 60.0   Mean   : 65.0  \n",
              " 3rd Qu.: 77.5   3rd Qu.: 82.5   3rd Qu.: 87.5  \n",
              " Max.   :100.0   Max.   :105.0   Max.   :110.0  "
            ]
          },
          "metadata": {}
        },
        {
          "output_type": "stream",
          "name": "stdout",
          "text": [
            "Rata-rata:\n",
            "value1 value2 value3 \n",
            "    55     60     65 \n",
            "\n",
            "Median:\n",
            "value1 value2 value3 \n",
            "    55     60     65 \n",
            "\n",
            "Standar Deviasi:\n",
            " value1  value2  value3 \n",
            "30.2765 30.2765 30.2765 \n",
            "\n",
            "Minimum:\n",
            "value1 value2 value3 \n",
            "    10     15     20 \n",
            "\n",
            "Maximum:\n",
            "value1 value2 value3 \n",
            "   100    105    110 \n",
            "\n",
            "Kuartil:\n",
            "     value1 value2 value3\n",
            "0%     10.0   15.0   20.0\n",
            "25%    32.5   37.5   42.5\n",
            "50%    55.0   60.0   65.0\n",
            "75%    77.5   82.5   87.5\n",
            "100%  100.0  105.0  110.0\n"
          ]
        }
      ]
    },
    {
      "cell_type": "code",
      "source": [
        "# Contoh data: kolom 'value' dan 'gender' dengan beberapa pengamatan\n",
        "data <- data.frame(\n",
        "  value = c(10, 20, 30, 40, 50, 60, 70, 80, 90, 100, 15, 25, 35, 45, 55, 65, 75, 85, 95, 105),\n",
        "  gender = c('Male', 'Male', 'Male', 'Male', 'Male', 'Male', 'Male', 'Male', 'Male', 'Male',\n",
        "             'Female', 'Female', 'Female', 'Female', 'Female', 'Female', 'Female', 'Female', 'Female', 'Female')\n",
        ")\n",
        "\n",
        "# Memisahkan data berdasarkan gender\n",
        "data_male <- subset(data, gender == 'Male')\n",
        "data_female <- subset(data, gender == 'Female')\n",
        "\n",
        "# Menampilkan ringkasan statistik deskriptif untuk setiap gender\n",
        "cat(\"Ringkasan Statistik Deskriptif untuk Laki-Laki:\\n\")\n",
        "print(summary(data_male$value))\n",
        "\n",
        "cat(\"\\nRata-rata (Male):\", mean(data_male$value, na.rm = TRUE))\n",
        "cat(\"\\nMedian (Male):\", median(data_male$value, na.rm = TRUE))\n",
        "cat(\"\\nStandar Deviasi (Male):\", sd(data_male$value, na.rm = TRUE))\n",
        "cat(\"\\nMinimum (Male):\", min(data_male$value, na.rm = TRUE))\n",
        "cat(\"\\nMaximum (Male):\", max(data_male$value, na.rm = TRUE))\n",
        "cat(\"\\nKuartil (Male):\\n\")\n",
        "print(quantile(data_male$value, na.rm = TRUE))\n",
        "\n",
        "cat(\"\\nRingkasan Statistik Deskriptif untuk Perempuan:\\n\")\n",
        "print(summary(data_female$value))\n",
        "\n",
        "cat(\"\\nRata-rata (Female):\", mean(data_female$value, na.rm = TRUE))\n",
        "cat(\"\\nMedian (Female):\", median(data_female$value, na.rm = TRUE))\n",
        "cat(\"\\nStandar Deviasi (Female):\", sd(data_female$value, na.rm = TRUE))\n",
        "cat(\"\\nMinimum (Female):\", min(data_female$value, na.rm = TRUE))\n",
        "cat(\"\\nMaximum (Female):\", max(data_female$value, na.rm = TRUE))\n",
        "cat(\"\\nKuartil (Female):\\n\")\n",
        "print(quantile(data_female$value, na.rm = TRUE))\n"
      ],
      "metadata": {
        "colab": {
          "base_uri": "https://localhost:8080/"
        },
        "id": "Rav8N6XyL8mL",
        "outputId": "b1746f25-ea72-4a04-992a-5df097bfed1f"
      },
      "execution_count": null,
      "outputs": [
        {
          "output_type": "stream",
          "name": "stdout",
          "text": [
            "Ringkasan Statistik Deskriptif untuk Laki-Laki:\n",
            "   Min. 1st Qu.  Median    Mean 3rd Qu.    Max. \n",
            "   10.0    32.5    55.0    55.0    77.5   100.0 \n",
            "\n",
            "Rata-rata (Male): 55\n",
            "Median (Male): 55\n",
            "Standar Deviasi (Male): 30.2765\n",
            "Minimum (Male): 10\n",
            "Maximum (Male): 100\n",
            "Kuartil (Male):\n",
            "   0%   25%   50%   75%  100% \n",
            " 10.0  32.5  55.0  77.5 100.0 \n",
            "\n",
            "Ringkasan Statistik Deskriptif untuk Perempuan:\n",
            "   Min. 1st Qu.  Median    Mean 3rd Qu.    Max. \n",
            "   15.0    37.5    60.0    60.0    82.5   105.0 \n",
            "\n",
            "Rata-rata (Female): 60\n",
            "Median (Female): 60\n",
            "Standar Deviasi (Female): 30.2765\n",
            "Minimum (Female): 15\n",
            "Maximum (Female): 105\n",
            "Kuartil (Female):\n",
            "   0%   25%   50%   75%  100% \n",
            " 15.0  37.5  60.0  82.5 105.0 \n"
          ]
        }
      ]
    },
    {
      "cell_type": "code",
      "source": [
        "# Memuat paket yang diperlukan\n",
        "install.packages(\"ggplot2\")\n",
        "library(ggplot2)\n",
        "\n",
        "# Contoh data: kolom nilai dan gender\n",
        "data <- data.frame(\n",
        "  value = c(10, 20, 30, 40, 50, 60, 70, 80, 90, 100, 15, 25, 35, 45, 55, 65, 75, 85, 95, 105),\n",
        "  gender = c('Male', 'Female', 'Male', 'Female', 'Male', 'Female', 'Male', 'Female', 'Male', 'Female',\n",
        "             'Male', 'Female', 'Male', 'Female', 'Male', 'Female', 'Male', 'Female', 'Male', 'Female')\n",
        ")\n",
        "\n",
        "# Menampilkan ringkasan statistik deskriptif berdasarkan gender\n",
        "summary_by_gender <- aggregate(value ~ gender, data, summary)\n",
        "print(summary_by_gender)\n",
        "\n",
        "# Menghitung rata-rata, median, dan standar deviasi berdasarkan gender\n",
        "mean_by_gender <- aggregate(value ~ gender, data, mean)\n",
        "median_by_gender <- aggregate(value ~ gender, data, median)\n",
        "sd_by_gender <- aggregate(value ~ gender, data, sd)\n",
        "\n",
        "cat(\"Rata-rata berdasarkan gender:\\n\")\n",
        "print(mean_by_gender)\n",
        "\n",
        "cat(\"\\nMedian berdasarkan gender:\\n\")\n",
        "print(median_by_gender)\n",
        "\n",
        "cat(\"\\nStandar Deviasi berdasarkan gender:\\n\")\n",
        "print(sd_by_gender)\n",
        "\n",
        "# Membuat pie chart untuk distribusi gender\n",
        "gender_counts <- table(data$gender)\n",
        "pie(gender_counts, labels = paste(names(gender_counts), \"\\n\", gender_counts), main = \"Distribusi Gender\")\n"
      ],
      "metadata": {
        "colab": {
          "base_uri": "https://localhost:8080/",
          "height": 853
        },
        "id": "Zac2ghBuNF3S",
        "outputId": "88a36045-83b2-4900-f170-a8c348b5eebc"
      },
      "execution_count": null,
      "outputs": [
        {
          "output_type": "stream",
          "name": "stderr",
          "text": [
            "Installing package into ‘/usr/local/lib/R/site-library’\n",
            "(as ‘lib’ is unspecified)\n",
            "\n"
          ]
        },
        {
          "output_type": "stream",
          "name": "stdout",
          "text": [
            "  gender value.Min. value.1st Qu. value.Median value.Mean value.3rd Qu.\n",
            "1 Female      20.00         41.25        62.50      62.50         83.75\n",
            "2   Male      10.00         31.25        52.50      52.50         73.75\n",
            "  value.Max.\n",
            "1     105.00\n",
            "2      95.00\n",
            "Rata-rata berdasarkan gender:\n",
            "  gender value\n",
            "1 Female  62.5\n",
            "2   Male  52.5\n",
            "\n",
            "Median berdasarkan gender:\n",
            "  gender value\n",
            "1 Female  62.5\n",
            "2   Male  52.5\n",
            "\n",
            "Standar Deviasi berdasarkan gender:\n",
            "  gender    value\n",
            "1 Female 29.93047\n",
            "2   Male 29.93047\n"
          ]
        },
        {
          "output_type": "display_data",
          "data": {
            "text/plain": [
              "Plot with title “Distribusi Gender”"
            ],
            "image/png": "[encoded data removed]"
          },
          "metadata": {
            "image/png": {
              "width": 420,
              "height": 420
            }
          }
        }
      ]
    },
    {
      "cell_type": "code",
      "source": [
        "# Contoh data: skor dari 5 item kuesioner untuk 10 responden\n",
        "data <- data.frame(\n",
        "  item1 = c(4, 3, 5, 4, 2, 5, 4, 3, 5, 4),\n",
        "  item2 = c(3, 2, 4, 3, 1, 4, 3, 2, 4, 3),\n",
        "  item3 = c(5, 4, 5, 5, 3, 5, 4, 4, 5, 4),\n",
        "  item4 = c(4, 3, 5, 4, 2, 5, 4, 3, 5, 4),\n",
        "  item5 = c(3, 2, 4, 3, 1, 4, 3, 2, 4, 3)\n",
        ")\n",
        "\n",
        "# Menghitung skor total untuk setiap responden\n",
        "data$total <- rowSums(data)\n",
        "\n",
        "# Menghitung koefisien korelasi Pearson antara setiap item dan skor total\n",
        "validity_results <- sapply(data[1:5], function(item) cor(item, data$total))\n",
        "\n",
        "# Menampilkan hasil uji validitas\n",
        "print(validity_results)\n",
        "\n",
        "# Interpretasi\n",
        "alpha <- 0.05\n",
        "validity_significance <- sapply(data[1:5], function(item) cor.test(item, data$total)$p.value < alpha)\n",
        "print(validity_significance)\n"
      ],
      "metadata": {
        "colab": {
          "base_uri": "https://localhost:8080/"
        },
        "id": "nOOvhKL0NYUv",
        "outputId": "7a522c1d-fdf4-4d56-e443-03bbc1f8ea14"
      },
      "execution_count": null,
      "outputs": [
        {
          "output_type": "stream",
          "name": "stdout",
          "text": [
            "    item1     item2     item3     item4     item5 \n",
            "0.9970388 0.9970388 0.8992288 0.9970388 0.9970388 \n",
            "item1 item2 item3 item4 item5 \n",
            " TRUE  TRUE  TRUE  TRUE  TRUE \n"
          ]
        }
      ]
    },
    {
      "cell_type": "code",
      "source": [
        "install.packages(\"psych\")\n",
        "# Memuat paket yang diperlukan\n",
        "library(psych)\n",
        "\n",
        "# Contoh data: skor dari 5 item kuesioner untuk 10 responden\n",
        "data <- data.frame(\n",
        "  item1 = c(4, 3, 5, 4, 2, 5, 4, 3, 5, 4),\n",
        "  item2 = c(3, 2, 4, 3, 1, 4, 3, 2, 4, 3),\n",
        "  item3 = c(5, 4, 5, 5, 3, 5, 4, 4, 5, 4),\n",
        "  item4 = c(4, 3, 5, 4, 2, 5, 4, 3, 5, 4),\n",
        "  item5 = c(3, 2, 4, 3, 1, 4, 3, 2, 4, 3)\n",
        ")\n",
        "\n",
        "# Melakukan uji reliabilitas menggunakan koefisien Cronbach's alpha\n",
        "reliability_result <- alpha(data)\n",
        "\n",
        "# Menampilkan hasil uji reliabilitas\n",
        "print(reliability_result)\n",
        "\n",
        "# Menampilkan nilai Cronbach's alpha\n",
        "cat(\"Cronbach's alpha:\", reliability_result$total$raw_alpha, \"\\n\")\n",
        "\n",
        "# Menampilkan standar deviasi setiap item\n",
        "cat(\"\\nStandard Deviations:\\n\")\n",
        "print(reliability_result$item.stats$sd)\n"
      ],
      "metadata": {
        "colab": {
          "base_uri": "https://localhost:8080/"
        },
        "id": "DOcF0oB5OE_G",
        "outputId": "2e76212f-b151-4dbe-d5fe-259903bc1f12"
      },
      "execution_count": null,
      "outputs": [
        {
          "output_type": "stream",
          "name": "stderr",
          "text": [
            "Installing package into ‘/usr/local/lib/R/site-library’\n",
            "(as ‘lib’ is unspecified)\n",
            "\n",
            "also installing the dependency ‘mnormt’\n",
            "\n",
            "\n",
            "\n",
            "Attaching package: ‘psych’\n",
            "\n",
            "\n",
            "The following objects are masked from ‘package:ggplot2’:\n",
            "\n",
            "    %+%, alpha\n",
            "\n",
            "\n",
            "Warning message in cor.smooth(r):\n",
            "“Matrix was not positive definite, smoothing was done”\n",
            "In factor.stats, I could not find the RMSEA upper bound . Sorry about that\n",
            "\n",
            "In smc, smcs < 0 were set to .0\n",
            "\n",
            "In smc, smcs < 0 were set to .0\n",
            "\n",
            "In smc, smcs < 0 were set to .0\n",
            "\n",
            "In smc, smcs < 0 were set to .0\n",
            "\n",
            "In smc, smcs < 0 were set to .0\n",
            "\n",
            "In smc, smcs < 0 were set to .0\n",
            "\n",
            "In smc, smcs < 0 were set to .0\n",
            "\n"
          ]
        },
        {
          "output_type": "stream",
          "name": "stdout",
          "text": [
            "\n",
            "Reliability analysis   \n",
            "Call: alpha(x = data)\n",
            "\n",
            "  raw_alpha std.alpha G6(smc) average_r S/N   ase mean   sd median_r\n",
            "      0.99      0.99    0.82      0.95  86 0.006  3.6 0.92        1\n",
            "\n",
            "    95% confidence boundaries \n",
            "         lower alpha upper\n",
            "Feldt     0.97  0.99     1\n",
            "Duhachek  0.98  0.99     1\n",
            "\n",
            " Reliability if an item is dropped:\n",
            "      raw_alpha std.alpha G6(smc) average_r S/N alpha se  var.r med.r\n",
            "item1      0.98      0.98    0.79      0.93  54     0.01 0.0056  0.93\n",
            "item2      0.98      0.98    0.79      0.93  54     0.01 0.0056  0.93\n",
            "item3      1.00      1.00    0.75      1.00 Inf     0.00 0.0000  1.00\n",
            "item4      0.98      0.98    0.79      0.93  54     0.01 0.0056  0.93\n",
            "item5      0.98      0.98    0.79      0.93  54     0.01 0.0056  0.93\n",
            "\n",
            " Item statistics \n",
            "       n raw.r std.r r.cor r.drop mean   sd\n",
            "item1 10   1.0  0.99  0.87   1.00  3.9 0.99\n",
            "item2 10   1.0  0.99  0.87   1.00  2.9 0.99\n",
            "item3 10   0.9  0.91  0.95   0.86  4.4 0.70\n",
            "item4 10   1.0  0.99  0.87   1.00  3.9 0.99\n",
            "item5 10   1.0  0.99  0.87   1.00  2.9 0.99\n",
            "\n",
            "Non missing response frequency for each item\n",
            "        1   2   3   4   5 miss\n",
            "item1 0.0 0.1 0.2 0.4 0.3    0\n",
            "item2 0.1 0.2 0.4 0.3 0.0    0\n",
            "item3 0.0 0.0 0.1 0.4 0.5    0\n",
            "item4 0.0 0.1 0.2 0.4 0.3    0\n",
            "item5 0.1 0.2 0.4 0.3 0.0    0\n",
            "Cronbach's alpha: 0.9868421 \n",
            "\n",
            "Standard Deviations:\n",
            "[1] 0.9944289 0.9944289 0.6992059 0.9944289 0.9944289\n"
          ]
        }
      ]
    },
    {
      "cell_type": "code",
      "source": [
        "# Contoh data: skor dari suatu pengukuran untuk 20 responden\n",
        "data <- c(4, 3, 5, 4, 2, 5, 4, 3, 5, 4, 6, 3, 5, 7, 3, 5, 4, 3, 6, 5)\n",
        "\n",
        "# Uji Normalitas menggunakan uji Shapiro-Wilk\n",
        "shapiro_test <- shapiro.test(data)\n",
        "\n",
        "# Menampilkan hasil uji normalitas\n",
        "cat(\"Shapiro-Wilk normality test:\\n\")\n",
        "print(shapiro_test)\n",
        "\n",
        "# Membuat Normal Probability Plot (Q-Q plot)\n",
        "qqnorm(data, main=\"Normal Q-Q Plot with Regression Line\")\n",
        "qqline(data, col=\"red\")\n",
        "\n",
        "# Menentukan outliers (nilai di luar 1.5*IQR dari kuartil pertama atau ketiga)\n",
        "Q1 <- quantile(data, 0.25)\n",
        "Q3 <- quantile(data, 0.75)\n",
        "IQR <- Q3 - Q1\n",
        "lower_bound <- Q1 - 1.5 * IQR\n",
        "upper_bound <- Q3 + 1.5 * IQR\n",
        "outliers <- data[data < lower_bound | data > upper_bound]\n",
        "\n",
        "# Menampilkan outliers\n",
        "cat(\"Outliers:\\n\")\n",
        "print(outliers)\n",
        "\n",
        "# Menambahkan outliers ke plot\n",
        "points(outliers, rep(-2, length(outliers)), col=\"blue\", pch=19)\n",
        "legend(\"topleft\", legend=c(\"Data\", \"Regression Line\", \"Outliers\"), col=c(\"black\", \"red\", \"blue\"), pch=c(1, NA, 19), lty=c(NA, 1, NA))\n"
      ],
      "metadata": {
        "colab": {
          "base_uri": "https://localhost:8080/",
          "height": 600
        },
        "id": "59FHVkilOxKd",
        "outputId": "bc6c67c1-206d-4df4-8750-9332f486ba4d"
      },
      "execution_count": null,
      "outputs": [
        {
          "output_type": "stream",
          "name": "stdout",
          "text": [
            "Shapiro-Wilk normality test:\n",
            "\n",
            "\tShapiro-Wilk normality test\n",
            "\n",
            "data:  data\n",
            "W = 0.94253, p-value = 0.2675\n",
            "\n",
            "Outliers:\n",
            "numeric(0)\n"
          ]
        },
        {
          "output_type": "display_data",
          "data": {
            "text/plain": [
              "Plot with title “Normal Q-Q Plot with Regression Line”"
            ],
            "image/png": "[encoded data removed]"
          },
          "metadata": {
            "image/png": {
              "width": 420,
              "height": 420
            }
          }
        }
      ]
    },
    {
      "cell_type": "code",
      "source": [
        "# Contoh data: skor dari suatu pengukuran untuk 20 responden\n",
        "data <- c(4, 3, 5, 4, 2, 5, 4, 3, 5, 4, 6, 3, 5, 7, 3, 5, 4, 3, 6, 5)\n",
        "\n",
        "# Uji Normalitas menggunakan uji Shapiro-Wilk\n",
        "shapiro_test <- shapiro.test(data)\n",
        "\n",
        "# Menampilkan hasil uji normalitas\n",
        "cat(\"Shapiro-Wilk normality test:\\n\")\n",
        "print(shapiro_test)\n",
        "\n",
        "# Menentukan outliers (nilai di luar 1.5*IQR dari kuartil pertama atau ketiga)\n",
        "Q1 <- quantile(data, 0.25)\n",
        "Q3 <- quantile(data, 0.75)\n",
        "IQR <- Q3 - Q1\n",
        "lower_bound <- Q1 - 1.5 * IQR\n",
        "upper_bound <- Q3 + 1.5 * IQR\n",
        "outliers <- data[data < lower_bound | data > upper_bound]\n",
        "\n",
        "# Menampilkan outliers\n",
        "cat(\"Outliers:\\n\")\n",
        "print(outliers)\n",
        "\n",
        "# Membuat histogram dengan garis density plot\n",
        "hist(data, breaks=10, probability=TRUE, main=\"Histogram with Density Plot\", xlab=\"Value\", ylab=\"Density\", col=\"lightblue\", border=\"black\")\n",
        "lines(density(data), col=\"red\", lwd=2)\n",
        "\n",
        "# Menambahkan garis normal distribution\n",
        "x <- seq(min(data), max(data), length=100)\n",
        "y <- dnorm(x, mean=mean(data), sd=sd(data))\n",
        "lines(x, y, col=\"blue\", lwd=2, lty=2)\n",
        "\n",
        "# Menambahkan outliers ke plot\n",
        "points(outliers, rep(0, length(outliers)), col=\"blue\", pch=19)\n",
        "\n",
        "# Legenda\n",
        "legend(\"topright\", legend=c(\"Density\", \"Normal Distribution\", \"Outliers\"), col=c(\"red\", \"blue\", \"blue\"), lwd=c(2, 2, NA), lty=c(1, 2, NA), pch=c(NA, NA, 19))\n"
      ],
      "metadata": {
        "colab": {
          "base_uri": "https://localhost:8080/",
          "height": 600
        },
        "id": "NTfj-t2oPsfv",
        "outputId": "2c6c9c4a-bd2b-423d-cad0-612961bdc78a"
      },
      "execution_count": null,
      "outputs": [
        {
          "output_type": "stream",
          "name": "stdout",
          "text": [
            "Shapiro-Wilk normality test:\n",
            "\n",
            "\tShapiro-Wilk normality test\n",
            "\n",
            "data:  data\n",
            "W = 0.94253, p-value = 0.2675\n",
            "\n",
            "Outliers:\n",
            "numeric(0)\n"
          ]
        },
        {
          "output_type": "display_data",
          "data": {
            "text/plain": [
              "Plot with title “Histogram with Density Plot”"
            ],
            "image/png": "[encoded data removed]"
          },
          "metadata": {
            "image/png": {
              "width": 420,
              "height": 420
            }
          }
        }
      ]
    },
    {
      "cell_type": "code",
      "source": [
        "# Memuat paket yang diperlukan\n",
        "install.packages(\"car\")\n",
        "library(car)\n",
        "\n",
        "# Contoh data: variabel independen (X1, X2, X3) dan variabel dependen (Y)\n",
        "data <- data.frame(\n",
        "  Y = c(10, 20, 30, 40, 50, 60, 70, 80, 90, 100),\n",
        "  X1 = c(1, 2, 3, 4, 5, 6, 7, 8, 9, 10),\n",
        "  X2 = c(2, 4, 6, 8, 10, 12, 14, 16, 18, 20),\n",
        "  X3 = c(3, 6, 9, 12, 15, 18, 21, 24, 27, 30)\n",
        ")\n",
        "\n",
        "# Menjalankan regresi linear\n",
        "model <- lm(Y ~ X1 + X2 + X3, data = data)\n",
        "\n",
        "# Menghitung VIF dan Tolerance\n",
        "vif_values <- vif(model)\n",
        "tolerance_values <- 1 / vif_values\n",
        "\n",
        "# Membuat tabel dengan informasi Tolerance dan VIF\n",
        "results <- data.frame(\n",
        "  Variable = names(vif_values),\n",
        "  Tolerance = tolerance_values,\n",
        "  VIF = vif_values\n",
        ")\n",
        "\n",
        "# Menambahkan informasi cutoff untuk interpretasi\n",
        "results$High_Multicollinearity <- ifelse(results$VIF > 10, \"Yes\", \"No\")\n",
        "\n",
        "# Menampilkan tabel hasil\n",
        "print(results)\n",
        "\n",
        "# Interpretasi\n",
        "cat(\"\\nInterpretasi:\\n\")\n",
        "cat(\"Tolerance di bawah 0.1 dan VIF di atas 10 menunjukkan adanya multikolinearitas tinggi.\\n\")\n",
        "\n"
      ],
      "metadata": {
        "colab": {
          "base_uri": "https://localhost:8080/",
          "height": 419
        },
        "id": "cJrhbPINQmsy",
        "outputId": "1cbcb3f9-3a5d-4a21-f8c4-5d2a43ffb01d"
      },
      "execution_count": null,
      "outputs": [
        {
          "output_type": "stream",
          "name": "stderr",
          "text": [
            "Installing package into ‘/usr/local/lib/R/site-library’\n",
            "(as ‘lib’ is unspecified)\n",
            "\n",
            "also installing the dependencies ‘numDeriv’, ‘SparseM’, ‘MatrixModels’, ‘minqa’, ‘nloptr’, ‘Rcpp’, ‘RcppEigen’, ‘carData’, ‘abind’, ‘pbkrtest’, ‘quantreg’, ‘lme4’\n",
            "\n",
            "\n",
            "Warning message in install.packages(\"car\"):\n",
            "“installation of package ‘RcppEigen’ had non-zero exit status”\n",
            "Warning message in install.packages(\"car\"):\n",
            "“installation of package ‘quantreg’ had non-zero exit status”\n",
            "Warning message in install.packages(\"car\"):\n",
            "“installation of package ‘lme4’ had non-zero exit status”\n",
            "Warning message in install.packages(\"car\"):\n",
            "“installation of package ‘pbkrtest’ had non-zero exit status”\n",
            "Warning message in install.packages(\"car\"):\n",
            "“installation of package ‘car’ had non-zero exit status”\n"
          ]
        },
        {
          "output_type": "error",
          "ename": "ERROR",
          "evalue": "Error in library(car): there is no package called ‘car’\n",
          "traceback": [
            "Error in library(car): there is no package called ‘car’\nTraceback:\n",
            "1. library(car)"
          ]
        }
      ]
    },
    {
      "cell_type": "code",
      "source": [
        "install.packages(\"lmtest\")\n",
        "# Memuat paket yang diperlukan\n",
        "library(lmtest)\n",
        "\n",
        "# Contoh data: variabel independen (X1, X2, X3) dan variabel dependen (Y)\n",
        "data <- data.frame(\n",
        "  Y = c(10, 20, 30, 40, 50, 60, 70, 80, 90, 100),\n",
        "  X1 = c(1, 2, 3, 4, 5, 6, 7, 8, 9, 10),\n",
        "  X2 = c(2, 4, 6, 8, 10, 12, 14, 16, 18, 20),\n",
        "  X3 = c(3, 6, 9, 12, 15, 18, 21, 24, 27, 30)\n",
        ")\n",
        "\n",
        "# Menjalankan regresi linear\n",
        "model <- lm(Y ~ X1 + X2 + X3, data = data)\n",
        "\n",
        "# Melakukan uji heteroskedastisitas menggunakan uji Breusch-Pagan\n",
        "bp_test <- bptest(model)\n",
        "\n",
        "# Menampilkan hasil uji Breusch-Pagan\n",
        "cat(\"Hasil Uji Breusch-Pagan:\\n\")\n",
        "print(bp_test)\n",
        "\n",
        "# Membuat tabel hasil\n",
        "results <- data.frame(\n",
        "  Statistic = bp_test$statistic,\n",
        "  Parameter = bp_test$parameter,\n",
        "  P_Value = bp_test$p.value,\n",
        "  Interpretation = ifelse(bp_test$p.value < 0.05, \"Heteroskedastisitas terdeteksi\", \"Tidak ada heteroskedastisitas\")\n",
        ")\n",
        "\n",
        "# Menampilkan tabel hasil\n",
        "print(results)\n",
        "\n",
        "# Interpretasi\n",
        "cat(\"\\nInterpretasi:\\n\")\n",
        "cat(\"P-Value di bawah 0.05 menunjukkan adanya heteroskedastisitas.\\n\")\n"
      ],
      "metadata": {
        "colab": {
          "base_uri": "https://localhost:8080/"
        },
        "id": "ZgkZjKbmRJdf",
        "outputId": "ad6fa6b9-dcce-448f-c357-497ffd54d86a"
      },
      "execution_count": null,
      "outputs": [
        {
          "output_type": "stream",
          "name": "stderr",
          "text": [
            "Installing package into ‘/usr/local/lib/R/site-library’\n",
            "(as ‘lib’ is unspecified)\n",
            "\n",
            "also installing the dependency ‘zoo’\n",
            "\n",
            "\n",
            "Loading required package: zoo\n",
            "\n",
            "\n",
            "Attaching package: ‘zoo’\n",
            "\n",
            "\n",
            "The following objects are masked from ‘package:base’:\n",
            "\n",
            "    as.Date, as.Date.numeric\n",
            "\n",
            "\n"
          ]
        },
        {
          "output_type": "stream",
          "name": "stdout",
          "text": [
            "Hasil Uji Breusch-Pagan:\n",
            "\n",
            "\tstudentized Breusch-Pagan test\n",
            "\n",
            "data:  model\n",
            "BP = 4.5902, df = 1, p-value = 0.03215\n",
            "\n",
            "   Statistic Parameter    P_Value                 Interpretation\n",
            "BP   4.59022         1 0.03215489 Heteroskedastisitas terdeteksi\n",
            "\n",
            "Interpretasi:\n",
            "P-Value di bawah 0.05 menunjukkan adanya heteroskedastisitas.\n"
          ]
        }
      ]
    },
    {
      "cell_type": "code",
      "source": [
        "# Contoh data: variabel independen (X1, X2, X3) dan variabel dependen (Y)\n",
        "data <- data.frame(\n",
        "  Y = c(10, 20, 30, 40, 50, 60, 70, 80, 90, 100),\n",
        "  X1 = c(1, 2, 3, 4, 5, 6, 7, 8, 9, 10),\n",
        "  X2 = c(2, 4, 6, 8, 10, 12, 14, 16, 18, 20),\n",
        "  X3 = c(3, 6, 9, 12, 15, 18, 21, 24, 27, 30)\n",
        ")\n",
        "\n",
        "# Menjalankan regresi linear\n",
        "model <- lm(Y ~ X1 + X2 + X3, data = data)\n",
        "\n",
        "# Menghitung R-square dan Adjusted R-square\n",
        "r_squared <- summary(model)$r.squared\n",
        "adjusted_r_squared <- summary(model)$adj.r.squared\n",
        "\n",
        "# Membuat tabel hasil\n",
        "results <- data.frame(\n",
        "  Measure = c(\"R-squared\", \"Adjusted R-squared\"),\n",
        "  Value = c(r_squared, adjusted_r_squared)\n",
        ")\n",
        "\n",
        "# Menampilkan tabel hasil\n",
        "print(results)\n",
        "\n",
        "# Interpretasi\n",
        "cat(\"\\nInterpretasi:\\n\")\n",
        "cat(\"R-squared mengukur proporsi variabilitas dalam variabel dependen yang dapat dijelaskan oleh variabel independen.\\n\")\n",
        "cat(\"Adjusted R-squared mengkoreksi R-squared untuk jumlah variabel independen dan ukuran sampel, sehingga memberikan ukuran yang lebih akurat dari kekuatan model.\\n\")\n"
      ],
      "metadata": {
        "colab": {
          "base_uri": "https://localhost:8080/"
        },
        "id": "dqH6Hm5kR9FO",
        "outputId": "6dcd94cf-77ff-42a3-9ef4-80da4ac0631a"
      },
      "execution_count": null,
      "outputs": [
        {
          "output_type": "stream",
          "name": "stderr",
          "text": [
            "Warning message in summary.lm(model):\n",
            "“essentially perfect fit: summary may be unreliable”\n",
            "Warning message in summary.lm(model):\n",
            "“essentially perfect fit: summary may be unreliable”\n"
          ]
        },
        {
          "output_type": "stream",
          "name": "stdout",
          "text": [
            "             Measure Value\n",
            "1          R-squared     1\n",
            "2 Adjusted R-squared     1\n",
            "\n",
            "Interpretasi:\n",
            "R-squared mengukur proporsi variabilitas dalam variabel dependen yang dapat dijelaskan oleh variabel independen.\n",
            "Adjusted R-squared mengkoreksi R-squared untuk jumlah variabel independen dan ukuran sampel, sehingga memberikan ukuran yang lebih akurat dari kekuatan model.\n"
          ]
        }
      ]
    },
    {
      "cell_type": "code",
      "source": [
        "# Contoh data: variabel independen (X) dan variabel dependen (Y)\n",
        "data <- data.frame(\n",
        "  Y = c(10, 20, 30, 40, 50, 60, 70, 80, 90, 100),\n",
        "  X = c(1, 2, 3, 4, 5, 6, 7, 8, 9, 10)\n",
        ")\n",
        "\n",
        "# Menjalankan regresi linear\n",
        "model <- lm(Y ~ X, data = data)\n",
        "\n",
        "# Ringkasan hasil regresi\n",
        "summary_model <- summary(model)\n",
        "\n",
        "# Menyusun tabel hasil uji hipotesis\n",
        "results <- data.frame(\n",
        "  Term = rownames(summary_model$coefficients),\n",
        "  Estimate = summary_model$coefficients[, \"Estimate\"],\n",
        "  Std_Error = summary_model$coefficients[, \"Std. Error\"],\n",
        "  t_value = summary_model$coefficients[, \"t value\"],\n",
        "  p_value = summary_model$coefficients[, \"Pr(>|t|)\"]\n",
        ")\n",
        "\n",
        "# Menambahkan kolom interpretasi berdasarkan p-value\n",
        "results$Significance <- ifelse(results$p_value < 0.05, \"Significant\", \"Not Significant\")\n",
        "\n",
        "# Menampilkan tabel hasil\n",
        "print(results)\n",
        "\n",
        "# Analisis\n",
        "cat(\"\\nAnalisis:\\n\")\n",
        "cat(\"Koefisien regresi menggambarkan seberapa besar perubahan yang diharapkan dalam variabel dependen (Y) untuk setiap unit perubahan dalam variabel independen (X).\\n\")\n",
        "cat(\"P-value digunakan untuk menguji signifikansi statistik dari koefisien. Jika p-value < 0.05, maka koefisien tersebut signifikan secara statistik.\\n\")\n",
        "\n",
        "# Visualisasi grafik regresi\n",
        "plot(data$X, data$Y, main=\"Scatter Plot with Regression Line\", xlab=\"X\", ylab=\"Y\", pch=19, col=\"blue\")\n",
        "abline(model, col=\"red\", lwd=2)\n",
        "\n",
        "# Menambahkan teks ke plot untuk menunjukkan koefisien dan p-value\n",
        "text(2, 80, paste(\"Intercept =\", round(results$Estimate[1], 2)), col=\"red\")\n",
        "text(2, 70, paste(\"Slope =\", round(results$Estimate[2], 2)), col=\"red\")\n",
        "text(2, 60, paste(\"P-value =\", round(results$p_value[2], 4)), col=\"red\")\n",
        "\n",
        "# Menyimpan plot\n",
        "dev.copy(png, file=\"regression_plot.png\")\n",
        "dev.off()\n",
        "\n"
      ],
      "metadata": {
        "colab": {
          "base_uri": "https://localhost:8080/",
          "height": 709
        },
        "id": "sZecRobAScxL",
        "outputId": "b1b342c7-d0f2-4e3e-853b-5e8c25d73613"
      },
      "execution_count": null,
      "outputs": [
        {
          "output_type": "stream",
          "name": "stderr",
          "text": [
            "Warning message in summary.lm(model):\n",
            "“essentially perfect fit: summary may be unreliable”\n"
          ]
        },
        {
          "output_type": "stream",
          "name": "stdout",
          "text": [
            "                   Term      Estimate    Std_Error       t_value       p_value\n",
            "(Intercept) (Intercept) -8.987734e-15 3.472236e-15 -2.588457e+00  3.219024e-02\n",
            "X                     X  1.000000e+01 5.596015e-16  1.786986e+16 1.077083e-127\n",
            "            Significance\n",
            "(Intercept)  Significant\n",
            "X            Significant\n",
            "\n",
            "Analisis:\n",
            "Koefisien regresi menggambarkan seberapa besar perubahan yang diharapkan dalam variabel dependen (Y) untuk setiap unit perubahan dalam variabel independen (X).\n",
            "P-value digunakan untuk menguji signifikansi statistik dari koefisien. Jika p-value < 0.05, maka koefisien tersebut signifikan secara statistik.\n"
          ]
        },
        {
          "output_type": "display_data",
          "data": {
            "text/html": [
              "<strong>png:</strong> 3"
            ],
            "text/markdown": "**png:** 3",
            "text/latex": "\\textbf{png:} 3",
            "text/plain": [
              "png \n",
              "  3 "
            ]
          },
          "metadata": {}
        },
        {
          "output_type": "display_data",
          "data": {
            "text/html": [
              "<strong>png:</strong> 2"
            ],
            "text/markdown": "**png:** 2",
            "text/latex": "\\textbf{png:} 2",
            "text/plain": [
              "png \n",
              "  2 "
            ]
          },
          "metadata": {}
        },
        {
          "output_type": "display_data",
          "data": {
            "text/plain": [
              "Plot with title “Scatter Plot with Regression Line”"
            ],
            "image/png": "[encoded data removed]"
          },
          "metadata": {
            "image/png": {
              "width": 420,
              "height": 420
            }
          }
        }
      ]
    },
    {
      "cell_type": "code",
      "source": [
        "# Memuat paket yang diperlukan\n",
        "install.packages(\"psych\")\n",
        "install.packages(\"ggplot2\")\n",
        "library(psych)\n",
        "library(ggplot2)\n",
        "\n",
        "# Contoh data: variabel independen (X1), moderator (M), dan variabel dependen (Y)\n",
        "data <- data.frame(\n",
        "  X1_item1 = c(1, 2, 3, 4, 5, 6, 7, 8, 9, 10),\n",
        "  X1_item2 = c(2, 3, 4, 5, 6, 7, 8, 9, 10, 11),\n",
        "  X2_item1 = c(2, 3, 4, 5, 6, 7, 8, 9, 10, 11),\n",
        "  X2_item2 = c(3, 4, 5, 6, 7, 8, 9, 10, 11, 12),\n",
        "  M_item1 = c(5, 4, 6, 5, 7, 6, 5, 7, 6, 8),\n",
        "  M_item2 = c(4, 3, 5, 4, 6, 5, 4, 6, 5, 7),\n",
        "  Y_item1 = c(15, 18, 16, 20, 22, 24, 21, 23, 25, 27),\n",
        "  Y_item2 = c(14, 17, 15, 19, 21, 23, 20, 22, 24, 26)\n",
        ")\n",
        "\n",
        "# Menghitung skor rata-rata untuk setiap konstruk\n",
        "data$X1 <- rowMeans(data[, c(\"X1_item1\", \"X1_item2\")])\n",
        "data$X2 <- rowMeans(data[, c(\"X2_item1\", \"X2_item2\")])\n",
        "data$M <- rowMeans(data[, c(\"M_item1\", \"M_item2\")])\n",
        "data$Y <- rowMeans(data[, c(\"Y_item1\", \"Y_item2\")])\n",
        "\n",
        "# Model regresi dengan interaksi moderasi\n",
        "model <- lm(Y ~ X1 * M, data = data)\n",
        "\n",
        "# Ringkasan hasil regresi\n",
        "summary_model <- summary(model)\n",
        "\n",
        "# Menyusun tabel hasil uji hipotesis\n",
        "results <- data.frame(\n",
        "  Term = rownames(summary_model$coefficients),\n",
        "  Estimate = summary_model$coefficients[, \"Estimate\"],\n",
        "  Std_Error = summary_model$coefficients[, \"Std. Error\"],\n",
        "  t_value = summary_model$coefficients[, \"t value\"],\n",
        "  p_value = summary_model$coefficients[, \"Pr(>|t|)\"]\n",
        ")\n",
        "\n",
        "# Menambahkan kolom interpretasi berdasarkan p-value\n",
        "results$Significance <- ifelse(results$p_value < 0.05, \"Significant\", \"Not Significant\")\n",
        "\n",
        "# Menampilkan tabel hasil\n",
        "print(results)\n",
        "\n",
        "# Analisis\n",
        "cat(\"\\nAnalisis:\\n\")\n",
        "cat(\"Koefisien regresi menggambarkan seberapa besar perubahan yang diharapkan dalam variabel dependen (Y) untuk setiap unit perubahan dalam variabel independen (X1) dan interaksi dengan moderator (M).\\n\")\n",
        "cat(\"P-value digunakan untuk menguji signifikansi statistik dari koefisien. Jika p-value < 0.05, maka koefisien tersebut signifikan secara statistik.\\n\")\n",
        "cat(\"Interaksi yang signifikan antara X1 dan M menunjukkan bahwa M memoderasi efek X1 terhadap Y.\\n\")\n",
        "\n",
        "# Visualisasi grafik regresi dengan interaksi moderasi\n",
        "ggplot(data, aes(x = X1, y = Y, color = M)) +\n",
        "  geom_point() +\n",
        "  geom_smooth(method = \"lm\", formula = y ~ x * color, se = FALSE) +\n",
        "  labs(title = \"Scatter Plot with Regression Line\",\n",
        "       x = \"X1\",\n",
        "       y = \"Y\",\n",
        "       color = \"Moderator (M)\") +\n",
        "  theme_minimal()\n",
        "\n",
        "# Menyimpan plot\n",
        "ggsave(\"moderation_plot.png\")\n"
      ],
      "metadata": {
        "colab": {
          "base_uri": "https://localhost:8080/",
          "height": 1000
        },
        "id": "gZ3iz2dUTEQA",
        "outputId": "181e37fd-b3d7-4890-c24a-f2a75532abf6"
      },
      "execution_count": null,
      "outputs": [
        {
          "output_type": "stream",
          "name": "stderr",
          "text": [
            "Installing package into ‘/usr/local/lib/R/site-library’\n",
            "(as ‘lib’ is unspecified)\n",
            "\n",
            "Installing package into ‘/usr/local/lib/R/site-library’\n",
            "(as ‘lib’ is unspecified)\n",
            "\n"
          ]
        },
        {
          "output_type": "stream",
          "name": "stdout",
          "text": [
            "                   Term    Estimate Std_Error    t_value    p_value\n",
            "(Intercept) (Intercept) 15.39532064 6.2484435  2.4638649 0.04886259\n",
            "X1                   X1  0.71941800 0.9318694  0.7720159 0.46941108\n",
            "M                     M -0.34997904 1.3069796 -0.2677770 0.79783842\n",
            "X1:M               X1:M  0.08017484 0.1686057  0.4755167 0.65123616\n",
            "               Significance\n",
            "(Intercept)     Significant\n",
            "X1          Not Significant\n",
            "M           Not Significant\n",
            "X1:M        Not Significant\n",
            "\n",
            "Analisis:\n",
            "Koefisien regresi menggambarkan seberapa besar perubahan yang diharapkan dalam variabel dependen (Y) untuk setiap unit perubahan dalam variabel independen (X1) dan interaksi dengan moderator (M).\n",
            "P-value digunakan untuk menguji signifikansi statistik dari koefisien. Jika p-value < 0.05, maka koefisien tersebut signifikan secara statistik.\n",
            "Interaksi yang signifikan antara X1 dan M menunjukkan bahwa M memoderasi efek X1 terhadap Y.\n"
          ]
        },
        {
          "output_type": "stream",
          "name": "stderr",
          "text": [
            "Warning message:\n",
            "“\u001b[1m\u001b[22mFailed to fit group -1.\n",
            "Caused by error:\n",
            "\u001b[33m!\u001b[39m object 'color' not found”\n",
            "\u001b[1m\u001b[22mSaving 6.67 x 6.67 in image\n",
            "Warning message:\n",
            "“\u001b[1m\u001b[22mFailed to fit group -1.\n",
            "Caused by error:\n",
            "\u001b[33m!\u001b[39m object 'color' not found”\n"
          ]
        },
        {
          "output_type": "display_data",
          "data": {
            "text/plain": [
              "plot without title"
            ],
            "image/png": "[encoded data removed]"
          },
          "metadata": {
            "image/png": {
              "width": 420,
              "height": 420
            }
          }
        }
      ]
    },
    {
      "cell_type": "code",
      "source": [
        "# Memuat paket yang diperlukan\n",
        "install.packages(\"lavaan\")\n",
        "install.packages(\"semPlot\")\n",
        "library(lavaan)\n",
        "library(semPlot)\n",
        "\n",
        "# Contoh data: variabel independen (X), mediator (M), dan variabel dependen (Y)\n",
        "data <- data.frame(\n",
        "  X1_item1 = c(1, 2, 3, 4, 5, 6, 7, 8, 9, 10),\n",
        "  X1_item2 = c(2, 3, 4, 5, 6, 7, 8, 9, 10, 11),\n",
        "  X2_item1 = c(2, 3, 4, 5, 6, 7, 8, 9, 10, 11),\n",
        "  X2_item2 = c(3, 4, 5, 6, 7, 8, 9, 10, 11, 12),\n",
        "  M_item1 = c(5, 4, 6, 5, 7, 6, 5, 7, 6, 8),\n",
        "  M_item2 = c(4, 3, 5, 4, 6, 5, 4, 6, 5, 7),\n",
        "  Y_item1 = c(15, 18, 16, 20, 22, 24, 21, 23, 25, 27),\n",
        "  Y_item2 = c(14, 17, 15, 19, 21, 23, 20, 22, 24, 26)\n",
        ")\n",
        "\n",
        "# Menghitung skor rata-rata untuk setiap konstruk\n",
        "data$X <- rowMeans(data[, c(\"X1_item1\", \"X1_item2\", \"X2_item1\", \"X2_item2\")])\n",
        "data$M <- rowMeans(data[, c(\"M_item1\", \"M_item2\")])\n",
        "data$Y <- rowMeans(data[, c(\"Y_item1\", \"Y_item2\")])\n",
        "\n",
        "# Menentukan model mediasi\n",
        "mediation_model <- '\n",
        "  # Hubungan langsung\n",
        "  Y ~ c*X\n",
        "\n",
        "  # Hubungan tidak langsung (mediasi)\n",
        "  M ~ a*X\n",
        "  Y ~ b*M\n",
        "\n",
        "  # Efek mediasi\n",
        "  indirect := a*b\n",
        "  direct := c\n",
        "  total := c + (a*b)\n",
        "'\n",
        "\n",
        "# Melakukan analisis mediasi\n",
        "fit <- sem(mediation_model, data = data)\n",
        "\n",
        "# Menampilkan ringkasan hasil\n",
        "summary(fit, fit.measures = TRUE, standardized = TRUE)\n",
        "\n",
        "# Menyusun tabel hasil uji mediasi\n",
        "results <- parameterEstimates(fit, standardized = TRUE)\n",
        "results <- results[results$op == \"~\" | results$op == \":=\", ]\n",
        "\n",
        "# Menambahkan kolom interpretasi berdasarkan p-value\n",
        "results$Significance <- ifelse(results$pvalue < 0.05, \"Significant\", \"Not Significant\")\n",
        "\n",
        "# Menampilkan tabel hasil\n",
        "print(results)\n",
        "\n",
        "# Analisis\n",
        "cat(\"\\nAnalisis:\\n\")\n",
        "cat(\"Koefisien 'a' menggambarkan pengaruh X terhadap M.\\n\")\n",
        "cat(\"Koefisien 'b' menggambarkan pengaruh M terhadap Y.\\n\")\n",
        "cat(\"Koefisien 'c' menggambarkan pengaruh langsung X terhadap Y.\\n\")\n",
        "cat(\"Koefisien 'indirect' menggambarkan efek mediasi (pengaruh tidak langsung).\\n\")\n",
        "cat(\"Jika p-value < 0.05, maka efek tersebut signifikan secara statistik.\\n\")\n",
        "\n",
        "# Visualisasi model mediasi\n",
        "semPaths(fit, what = \"std\", edge.label.cex = 1.2, layout = \"tree\", nCharNodes = 0, sizeMan = 7, edge.color = \"blue\", style = \"lisrel\")\n"
      ],
      "metadata": {
        "colab": {
          "base_uri": "https://localhost:8080/"
        },
        "id": "zvRGZRP-TsPZ",
        "outputId": "4ecbabc3-4123-4ad5-c95a-73c5b55a9eea"
      },
      "execution_count": null,
      "outputs": [
        {
          "output_type": "stream",
          "name": "stderr",
          "text": [
            "Installing package into ‘/usr/local/lib/R/site-library’\n",
            "(as ‘lib’ is unspecified)\n",
            "\n",
            "also installing the dependencies ‘pbivnorm’, ‘quadprog’\n",
            "\n",
            "\n",
            "Installing package into ‘/usr/local/lib/R/site-library’\n",
            "(as ‘lib’ is unspecified)\n",
            "\n",
            "also installing the dependencies ‘checkmate’, ‘htmlwidgets’, ‘coda’, ‘gridExtra’, ‘htmlTable’, ‘viridis’, ‘Formula’, ‘arm’, ‘xtable’, ‘openxlsx’, ‘RUnit’, ‘mvtnorm’, ‘Hmisc’, ‘jpeg’, ‘png’, ‘reshape2’, ‘glasso’, ‘fdrtool’, ‘gtools’, ‘pbapply’, ‘mi’, ‘lme4’, ‘kutils’, ‘RcppParallel’, ‘RcppEigen’, ‘StanHeaders’, ‘BH’, ‘rpf’, ‘qgraph’, ‘sem’, ‘plyr’, ‘XML’, ‘igraph’, ‘lisrelToR’, ‘rockchalk’, ‘corpcor’, ‘OpenMx’\n",
            "\n",
            "\n",
            "Warning message in install.packages(\"semPlot\"):\n",
            "“installation of package ‘plyr’ had non-zero exit status”\n",
            "Warning message in install.packages(\"semPlot\"):\n",
            "“installation of package ‘XML’ had non-zero exit status”\n",
            "Warning message in install.packages(\"semPlot\"):\n",
            "“installation of package ‘igraph’ had non-zero exit status”\n",
            "Warning message in install.packages(\"semPlot\"):\n",
            "“installation of package ‘reshape2’ had non-zero exit status”\n",
            "Warning message in install.packages(\"semPlot\"):\n",
            "“installation of package ‘lme4’ had non-zero exit status”\n",
            "Warning message in install.packages(\"semPlot\"):\n",
            "“installation of package ‘kutils’ had non-zero exit status”\n",
            "Warning message in install.packages(\"semPlot\"):\n",
            "“installation of package ‘StanHeaders’ had non-zero exit status”\n",
            "Warning message in install.packages(\"semPlot\"):\n",
            "“installation of package ‘rpf’ had non-zero exit status”\n",
            "Warning message in install.packages(\"semPlot\"):\n",
            "“installation of package ‘arm’ had non-zero exit status”\n",
            "Warning message in install.packages(\"semPlot\"):\n",
            "“installation of package ‘Hmisc’ had non-zero exit status”\n",
            "Warning message in install.packages(\"semPlot\"):\n",
            "“installation of package ‘rockchalk’ had non-zero exit status”\n"
          ]
        }
      ]
    },
    {
      "cell_type": "code",
      "source": [
        "# Memuat paket yang diperlukan\n",
        "install.packages(\"plspm\")\n",
        "install.packages(\"ggplot2\")\n",
        "library(plspm)\n",
        "library(ggplot2)\n",
        "\n",
        "# Contoh data: variabel laten dengan dua sub-variabel, masing-masing dua item\n",
        "data <- data.frame(\n",
        "  X1_item1 = c(1, 2, 3, 4, 5, 6, 7, 8, 9, 10),\n",
        "  X1_item2 = c(2, 3, 4, 5, 6, 7, 8, 9, 10, 11),\n",
        "  X2_item1 = c(2, 3, 4, 5, 6, 7, 8, 9, 10, 11),\n",
        "  X2_item2 = c(3, 4, 5, 6, 7, 8, 9, 10, 11, 12),\n",
        "  M_item1 = c(5, 4, 6, 5, 7, 6, 5, 7, 6, 8),\n",
        "  M_item2 = c(4, 3, 5, 4, 6, 5, 4, 6, 5, 7),\n",
        "  Y_item1 = c(15, 18, 16, 20, 22, 24, 21, 23, 25, 27),\n",
        "  Y_item2 = c(14, 17, 15, 19, 21, 23, 20, 22, 24, 26)\n",
        ")\n",
        "\n",
        "# Menentukan matriks jalur (path matrix)\n",
        "path_matrix <- rbind(\n",
        "  c(0, 0, 0),\n",
        "  c(1, 0, 0),\n",
        "  c(1, 1, 0)\n",
        ")\n",
        "colnames(path_matrix) <- rownames(path_matrix) <- c(\"X\", \"M\", \"Y\")\n",
        "\n",
        "# Menentukan blok indikator untuk setiap variabel laten\n",
        "blocks <- list(\n",
        "  c(\"X1_item1\", \"X1_item2\", \"X2_item1\", \"X2_item2\"),\n",
        "  c(\"M_item1\", \"M_item2\"),\n",
        "  c(\"Y_item1\", \"Y_item2\")\n",
        ")\n",
        "\n",
        "# Menentukan tipe skema jalur\n",
        "modes <- c(\"A\", \"A\", \"A\")\n",
        "\n",
        "# Melakukan analisis PLS-SEM\n",
        "pls_model <- plspm(data, path_matrix, blocks, modes)\n",
        "\n",
        "# Menampilkan hasil model\n",
        "print(pls_model)\n",
        "\n",
        "# Menampilkan tabel Outer Loadings\n",
        "outer_loadings <- pls_model$outer_model\n",
        "print(outer_loadings)\n",
        "\n",
        "# Menampilkan tabel Path Coefficients\n",
        "path_coefficients <- pls_model$path_coefs\n",
        "print(path_coefficients)\n",
        "\n",
        "# Menampilkan tabel p-values\n",
        "p_values <- pls_model$boot$paths\n",
        "print(p_values)\n",
        "\n",
        "# Visualisasi model luar (Outer Model)\n",
        "plot(pls_model, what = \"loadings\")\n",
        "\n",
        "# Visualisasi diagram jalur (Path Diagrams)\n",
        "plot(pls_model, what = \"inner\")\n"
      ],
      "metadata": {
        "colab": {
          "base_uri": "https://localhost:8080/",
          "height": 725
        },
        "id": "LbdZVnUqVhGL",
        "outputId": "2fb543e4-9887-4b12-fa00-bcffb5e41e52"
      },
      "execution_count": null,
      "outputs": [
        {
          "output_type": "stream",
          "name": "stderr",
          "text": [
            "Installing package into ‘/usr/local/lib/R/site-library’\n",
            "(as ‘lib’ is unspecified)\n",
            "\n",
            "Installing package into ‘/usr/local/lib/R/site-library’\n",
            "(as ‘lib’ is unspecified)\n",
            "\n"
          ]
        },
        {
          "output_type": "stream",
          "name": "stdout",
          "text": [
            "Partial Least Squares Path Modeling (PLS-PM) \n",
            "---------------------------------------------\n",
            "   NAME             DESCRIPTION\n",
            "1  $outer_model     outer model\n",
            "2  $inner_model     inner model\n",
            "3  $path_coefs      path coefficients matrix\n",
            "4  $scores          latent variable scores\n",
            "5  $crossloadings   cross-loadings\n",
            "6  $inner_summary   summary inner model\n",
            "7  $effects         total effects\n",
            "8  $unidim          unidimensionality\n",
            "9  $gof             goodness-of-fit\n",
            "10 $boot            bootstrap results\n",
            "11 $data            data matrix\n",
            "---------------------------------------------\n",
            "You can also use the function 'summary' \n",
            "\n",
            "      name block weight loading communality redundancy\n",
            "1 X1_item1     X   0.25       1           1  0.0000000\n",
            "2 X1_item2     X   0.25       1           1  0.0000000\n",
            "3 X2_item1     X   0.25       1           1  0.0000000\n",
            "4 X2_item2     X   0.25       1           1  0.0000000\n",
            "5  M_item1     M   0.50       1           1  0.4756871\n",
            "6  M_item2     M   0.50       1           1  0.4756871\n",
            "7  Y_item1     Y   0.50       1           1  0.8606942\n",
            "8  Y_item2     Y   0.50       1           1  0.8606942\n",
            "          X          M Y\n",
            "X 0.0000000 0.00000000 0\n",
            "M 0.6897007 0.00000000 0\n",
            "Y 0.8881451 0.05611243 0\n"
          ]
        },
        {
          "output_type": "error",
          "ename": "ERROR",
          "evalue": "Error in pls_model$boot$paths: $ operator is invalid for atomic vectors\n",
          "traceback": [
            "Error in pls_model$boot$paths: $ operator is invalid for atomic vectors\nTraceback:\n"
          ]
        }
      ]
    },
    {
      "cell_type": "code",
      "source": [
        "install.packages(\"plspm\")\n",
        "install.packages(\"semPLS\")\n",
        "install.packages(\"ggplot2\")\n",
        "install.packages(\"dplyr\")\n",
        "# Memuat paket yang diperlukan\n",
        "library(plspm)\n",
        "library(semPLS)\n",
        "library(ggplot2)\n",
        "library(dplyr)\n",
        "\n",
        "# Contoh data: variabel laten dengan dua sub-variabel, masing-masing dua item\n",
        "data <- data.frame(\n",
        "  X1_item1 = c(1, 2, 3, 4, 5, 6, 7, 8, 9, 10),\n",
        "  X1_item2 = c(2, 3, 4, 5, 6, 7, 8, 9, 10, 11),\n",
        "  X2_item1 = c(2, 3, 4, 5, 6, 7, 8, 9, 10, 11),\n",
        "  X2_item2 = c(3, 4, 5, 6, 7, 8, 9, 10, 11, 12),\n",
        "  M_item1 = c(5, 4, 6, 5, 7, 6, 5, 7, 6, 8),\n",
        "  M_item2 = c(4, 3, 5, 4, 6, 5, 4, 6, 5, 7),\n",
        "  Y_item1 = c(15, 18, 16, 20, 22, 24, 21, 23, 25, 27),\n",
        "  Y_item2 = c(14, 17, 15, 19, 21, 23, 20, 22, 24, 26)\n",
        ")\n",
        "\n",
        "# Menentukan matriks jalur (path matrix)\n",
        "path_matrix <- rbind(\n",
        "  c(0, 0, 0),\n",
        "  c(1, 0, 0),\n",
        "  c(1, 1, 0)\n",
        ")\n",
        "colnames(path_matrix) <- rownames(path_matrix) <- c(\"X\", \"M\", \"Y\")\n",
        "\n",
        "# Menentukan blok indikator untuk setiap variabel laten\n",
        "blocks <- list(\n",
        "  c(\"X1_item1\", \"X1_item2\", \"X2_item1\", \"X2_item2\"),\n",
        "  c(\"M_item1\", \"M_item2\"),\n",
        "  c(\"Y_item1\", \"Y_item2\")\n",
        ")\n",
        "\n",
        "# Menentukan tipe skema jalur\n",
        "modes <- c(\"A\", \"A\", \"A\")\n",
        "\n",
        "# Melakukan analisis PLS-SEM\n",
        "pls_model <- plspm(data, path_matrix, blocks, modes)\n",
        "\n",
        "# Menampilkan hasil model\n",
        "print(pls_model)\n",
        "\n",
        "# Menampilkan tabel Outer Loadings\n",
        "outer_loadings <- pls_model$outer_model\n",
        "print(outer_loadings)\n",
        "\n",
        "# Menampilkan tabel Path Coefficients\n",
        "path_coefficients <- pls_model$path_coefs\n",
        "print(path_coefficients)\n",
        "\n",
        "# Menggunakan bootstrap untuk mendapatkan p-value\n",
        "boot_res <- plspm(data, path_matrix, blocks, modes, boot.val = TRUE, br = 500)\n",
        "\n",
        "# Menampilkan tabel p-values dari bootstrap\n",
        "boot_paths <- boot_res$boot$paths\n",
        "print(boot_paths)\n",
        "\n",
        "# Menambahkan kolom interpretasi berdasarkan p-value\n",
        "results <- data.frame(\n",
        "  Term = rownames(path_coefficients),\n",
        "  Estimate = path_coefficients[, 1],\n",
        "  Std_Error = path_coefficients[, 2],\n",
        "  t_value = path_coefficients[, 3],\n",
        "  p_value = boot_paths[, 4],\n",
        "  Significance = ifelse(boot_paths[, 4] < 0.05, \"Significant\", \"Not Significant\")\n",
        ")\n",
        "\n",
        "# Menampilkan tabel hasil\n",
        "print(results)\n",
        "\n",
        "# Analisis\n",
        "cat(\"\\nAnalisis:\\n\")\n",
        "cat(\"Outer Loadings menunjukkan hubungan antara indikator dan konstruk laten.\\n\")\n",
        "cat(\"Path Coefficients menunjukkan kekuatan dan arah hubungan antar konstruk laten.\\n\")\n",
        "cat(\"P-value digunakan untuk menguji signifikansi statistik dari koefisien jalur. Jika p-value < 0.05, maka jalur tersebut signifikan secara statistik.\\n\")\n",
        "\n",
        "# Visualisasi model luar (Outer Model)\n",
        "plot(pls_model, what = \"loadings\")\n",
        "\n",
        "# Visualisasi diagram jalur (Path Diagrams)\n",
        "plot(pls_model, what = \"inner\")\n"
      ],
      "metadata": {
        "colab": {
          "base_uri": "https://localhost:8080/",
          "height": 435
        },
        "id": "WmztvbmIXGCV",
        "outputId": "2e3542f1-56f1-44d5-8dd1-d61f4eefbc13"
      },
      "execution_count": null,
      "outputs": [
        {
          "output_type": "stream",
          "name": "stderr",
          "text": [
            "Installing package into ‘/usr/local/lib/R/site-library’\n",
            "(as ‘lib’ is unspecified)\n",
            "\n",
            "Installing package into ‘/usr/local/lib/R/site-library’\n",
            "(as ‘lib’ is unspecified)\n",
            "\n",
            "Warning message:\n",
            "“package ‘semPLS’ is not available for this version of R\n",
            "\n",
            "A version of this package for your version of R might be available elsewhere,\n",
            "see the ideas at\n",
            "https://cran.r-project.org/doc/manuals/r-patched/R-admin.html#Installing-packages”\n",
            "Installing package into ‘/usr/local/lib/R/site-library’\n",
            "(as ‘lib’ is unspecified)\n",
            "\n",
            "Installing package into ‘/usr/local/lib/R/site-library’\n",
            "(as ‘lib’ is unspecified)\n",
            "\n"
          ]
        },
        {
          "output_type": "error",
          "ename": "ERROR",
          "evalue": "Error in library(semPLS): there is no package called ‘semPLS’\n",
          "traceback": [
            "Error in library(semPLS): there is no package called ‘semPLS’\nTraceback:\n",
            "1. library(semPLS)"
          ]
        }
      ]
    },
    {
      "cell_type": "code",
      "source": [],
      "metadata": {
        "id": "5mdkFikCbwfL"
      },
      "execution_count": null,
      "outputs": []
    }
  ]
}